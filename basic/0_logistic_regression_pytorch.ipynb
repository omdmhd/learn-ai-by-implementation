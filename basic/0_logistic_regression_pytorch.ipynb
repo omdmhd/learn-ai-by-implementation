{
 "cells": [
  {
   "cell_type": "code",
   "execution_count": 71,
   "id": "df084c7e-143d-4b45-b86d-349e8f3af25b",
   "metadata": {},
   "outputs": [],
   "source": [
    "\n",
    "import torch\n",
    "import torchvision.transforms as transforms\n",
    "from torchvision import datasets\n",
    "import numpy\n",
    "import matplotlib.pyplot as plt\n",
    "from torch.utils.data import DataLoader"
   ]
  },
  {
   "cell_type": "code",
   "execution_count": 18,
   "id": "f07af355-4f34-4f93-adce-065678a62ec8",
   "metadata": {},
   "outputs": [],
   "source": [
    "# loading training data\n",
    "train_dataset = datasets.MNIST(root='./data', \n",
    "                               train=True, \n",
    "                               transform=transforms.ToTensor(),\n",
    "                               download=True)\n",
    "#loading test data\n",
    "test_dataset = datasets.MNIST(root='./data', \n",
    "                              train=False, \n",
    "                              transform=transforms.ToTensor())"
   ]
  },
  {
   "cell_type": "code",
   "execution_count": 19,
   "id": "d017bc8d-ee27-45c3-a9e3-78001461f54c",
   "metadata": {},
   "outputs": [],
   "source": []
  },
  {
   "cell_type": "code",
   "execution_count": 57,
   "id": "5028ca1b-0a8a-4133-b790-7a1040c2ef39",
   "metadata": {},
   "outputs": [],
   "source": [
    "def sample_showup(data, index):\n",
    "    figure = plt.figure(figsize=(3, 3))\n",
    "    img, label = data[index]\n",
    "    plt.title(label)\n",
    "    plt.axis(\"off\")\n",
    "    plt.imshow(img.squeeze(), cmap=\"gray\")\n",
    "    plt.show()\n"
   ]
  },
  {
   "cell_type": "code",
   "execution_count": 59,
   "id": "c1a88b9d-6968-48bd-95e5-2a12ec1de72d",
   "metadata": {},
   "outputs": [],
   "source": [
    "# sample_showup(train_dataset, 1)"
   ]
  },
  {
   "cell_type": "code",
   "execution_count": 74,
   "id": "97c13807-421a-4c62-ae80-e872ff8dc48d",
   "metadata": {},
   "outputs": [],
   "source": [
    "batch_size = 32\n",
    "train_loader = DataLoader(dataset=train_dataset, batch_size = batch_size, shuffle = True)\n",
    "test_loader = DataLoader(dataset=test_dataset, batch_size = batch_size, shuffle = False)"
   ]
  },
  {
   "cell_type": "code",
   "execution_count": 75,
   "id": "c1a75e03-4134-4f19-9172-f7455afc4f2f",
   "metadata": {},
   "outputs": [],
   "source": [
    "class LogisticRegression(torch.nn.Module):\n",
    "    def __init__(self, n_inputs, n_outputs):\n",
    "        super().__init__()\n",
    "        self.linear = torch.nn.Linear(n_inputs, n_outputs)\n",
    "\n",
    "    def forward(self, x):\n",
    "        y_pred = torch.sigmoid(self.linear(x))\n",
    "        return y_pred\n",
    "        "
   ]
  },
  {
   "cell_type": "code",
   "execution_count": 79,
   "id": "c8f573e4-6baa-4a5c-8385-54d9b8156514",
   "metadata": {},
   "outputs": [],
   "source": [
    "n_inputs = 28*28\n",
    "n_outputs = 10\n",
    "log_regr = LogisticRegression(n_inputs, n_outputs)\n",
    "\n",
    "optimizer = torch.optim.SGD(log_regr.parameters(), lr=0.001)\n",
    "criterion = torch.nn.CrossEntropyLoss()"
   ]
  },
  {
   "cell_type": "code",
   "execution_count": 94,
   "id": "e562caeb-89be-4e82-8266-09a092c4eb76",
   "metadata": {},
   "outputs": [
    {
     "name": "stdout",
     "output_type": "stream",
     "text": [
      "Epoch: 0. Loss: 1.9164828062057495. Accuracy: 81.05\n",
      "Epoch: 1. Loss: 1.895896553993225. Accuracy: 81.65\n",
      "Epoch: 2. Loss: 1.91127347946167. Accuracy: 82.04\n",
      "Epoch: 3. Loss: 1.8929251432418823. Accuracy: 82.3\n",
      "Epoch: 4. Loss: 1.8438457250595093. Accuracy: 82.63\n",
      "Epoch: 5. Loss: 1.8113033771514893. Accuracy: 82.89\n",
      "Epoch: 6. Loss: 1.8277753591537476. Accuracy: 83.11\n",
      "Epoch: 7. Loss: 1.8272268772125244. Accuracy: 83.28\n",
      "Epoch: 8. Loss: 1.7912992238998413. Accuracy: 83.48\n",
      "Epoch: 9. Loss: 1.8236526250839233. Accuracy: 83.64\n",
      "Epoch: 10. Loss: 1.7987122535705566. Accuracy: 83.76\n",
      "Epoch: 11. Loss: 1.8379466533660889. Accuracy: 84.03\n",
      "Epoch: 12. Loss: 1.7991646528244019. Accuracy: 84.13\n",
      "Epoch: 13. Loss: 1.7802174091339111. Accuracy: 84.25\n",
      "Epoch: 14. Loss: 1.7629246711730957. Accuracy: 84.45\n",
      "Epoch: 15. Loss: 1.7327710390090942. Accuracy: 84.53\n",
      "Epoch: 16. Loss: 1.7769160270690918. Accuracy: 84.63\n",
      "Epoch: 17. Loss: 1.75344717502594. Accuracy: 84.72\n",
      "Epoch: 18. Loss: 1.7701716423034668. Accuracy: 84.78\n",
      "Epoch: 19. Loss: 1.7820881605148315. Accuracy: 84.83\n",
      "Epoch: 20. Loss: 1.7412142753601074. Accuracy: 84.94\n",
      "Epoch: 21. Loss: 1.8328672647476196. Accuracy: 85.08\n",
      "Epoch: 22. Loss: 1.7138248682022095. Accuracy: 85.18\n",
      "Epoch: 23. Loss: 1.738092064857483. Accuracy: 85.22\n",
      "Epoch: 24. Loss: 1.7404001951217651. Accuracy: 85.28\n",
      "Epoch: 25. Loss: 1.7449665069580078. Accuracy: 85.34\n",
      "Epoch: 26. Loss: 1.6929845809936523. Accuracy: 85.38\n",
      "Epoch: 27. Loss: 1.7247438430786133. Accuracy: 85.51\n",
      "Epoch: 28. Loss: 1.7339061498641968. Accuracy: 85.58\n",
      "Epoch: 29. Loss: 1.7728965282440186. Accuracy: 85.67\n",
      "Epoch: 30. Loss: 1.723177194595337. Accuracy: 85.72\n",
      "Epoch: 31. Loss: 1.673082947731018. Accuracy: 85.81\n",
      "Epoch: 32. Loss: 1.7311300039291382. Accuracy: 85.84\n",
      "Epoch: 33. Loss: 1.7057271003723145. Accuracy: 85.9\n",
      "Epoch: 34. Loss: 1.6956641674041748. Accuracy: 85.94\n",
      "Epoch: 35. Loss: 1.7584609985351562. Accuracy: 86.0\n",
      "Epoch: 36. Loss: 1.6976275444030762. Accuracy: 86.07\n",
      "Epoch: 37. Loss: 1.6929185390472412. Accuracy: 86.15\n",
      "Epoch: 38. Loss: 1.7279186248779297. Accuracy: 86.18\n",
      "Epoch: 39. Loss: 1.6649078130722046. Accuracy: 86.23\n",
      "Epoch: 40. Loss: 1.7645983695983887. Accuracy: 86.26\n",
      "Epoch: 41. Loss: 1.7000041007995605. Accuracy: 86.35\n",
      "Epoch: 42. Loss: 1.6910889148712158. Accuracy: 86.38\n",
      "Epoch: 43. Loss: 1.7807344198226929. Accuracy: 86.46\n",
      "Epoch: 44. Loss: 1.6613128185272217. Accuracy: 86.47\n",
      "Epoch: 45. Loss: 1.639367699623108. Accuracy: 86.51\n",
      "Epoch: 46. Loss: 1.7229881286621094. Accuracy: 86.53\n",
      "Epoch: 47. Loss: 1.6937713623046875. Accuracy: 86.53\n",
      "Epoch: 48. Loss: 1.6776694059371948. Accuracy: 86.56\n",
      "Epoch: 49. Loss: 1.7014096975326538. Accuracy: 86.59\n"
     ]
    }
   ],
   "source": [
    "epochs = 50\n",
    "Loss = []\n",
    "acc = []\n",
    "for epoch in range(epochs):\n",
    "    for i, (images, labels) in enumerate(train_loader):\n",
    "        optimizer.zero_grad()\n",
    "        outputs = log_regr(images.view(-1, 28*28))\n",
    "        loss = criterion(outputs, labels)\n",
    "        loss.backward()\n",
    "        optimizer.step()\n",
    "    Loss.append(loss.item())\n",
    "    correct = 0\n",
    "    for images, labels in test_loader:\n",
    "        outputs = log_regr(images.view(-1, 28*28))\n",
    "        _, predicted = torch.max(outputs.data, 1)\n",
    "        correct += (predicted == labels).sum()\n",
    "    accuracy = 100 * (correct.item()) / len(test_dataset)\n",
    "    acc.append(accuracy)\n",
    "    print('Epoch: {}. Loss: {}. Accuracy: {}'.format(epoch, loss.item(), accuracy))"
   ]
  },
  {
   "cell_type": "code",
   "execution_count": null,
   "id": "886da6f2-0337-4285-abef-49addb85723c",
   "metadata": {},
   "outputs": [],
   "source": []
  }
 ],
 "metadata": {
  "kernelspec": {
   "display_name": "Python 3 (ipykernel)",
   "language": "python",
   "name": "python3"
  },
  "language_info": {
   "codemirror_mode": {
    "name": "ipython",
    "version": 3
   },
   "file_extension": ".py",
   "mimetype": "text/x-python",
   "name": "python",
   "nbconvert_exporter": "python",
   "pygments_lexer": "ipython3",
   "version": "3.10.12"
  }
 },
 "nbformat": 4,
 "nbformat_minor": 5
}
