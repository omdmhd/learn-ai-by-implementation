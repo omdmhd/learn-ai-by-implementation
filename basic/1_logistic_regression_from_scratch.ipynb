{
 "cells": [
  {
   "cell_type": "code",
   "execution_count": 1,
   "id": "df084c7e-143d-4b45-b86d-349e8f3af25b",
   "metadata": {},
   "outputs": [],
   "source": [
    "\n",
    "import torch\n",
    "import torchvision.transforms as transforms\n",
    "from torchvision import datasets\n",
    "import numpy\n",
    "import matplotlib.pyplot as plt\n",
    "from torch.utils.data import DataLoader"
   ]
  },
  {
   "cell_type": "code",
   "execution_count": 2,
   "id": "f07af355-4f34-4f93-adce-065678a62ec8",
   "metadata": {},
   "outputs": [],
   "source": [
    "# loading training data\n",
    "train_dataset = datasets.MNIST(root='./data', \n",
    "                               train=True, \n",
    "                               transform=transforms.ToTensor(),\n",
    "                               download=True)\n",
    "#loading test data\n",
    "test_dataset = datasets.MNIST(root='./data', \n",
    "                              train=False, \n",
    "                              transform=transforms.ToTensor())"
   ]
  },
  {
   "cell_type": "code",
   "execution_count": null,
   "id": "d017bc8d-ee27-45c3-a9e3-78001461f54c",
   "metadata": {},
   "outputs": [],
   "source": []
  },
  {
   "cell_type": "code",
   "execution_count": 3,
   "id": "5028ca1b-0a8a-4133-b790-7a1040c2ef39",
   "metadata": {},
   "outputs": [],
   "source": [
    "def sample_showup(data, index):\n",
    "    figure = plt.figure(figsize=(3, 3))\n",
    "    img, label = data[index]\n",
    "    plt.title(label)\n",
    "    plt.axis(\"off\")\n",
    "    plt.imshow(img.squeeze(), cmap=\"gray\")\n",
    "    plt.show()\n"
   ]
  },
  {
   "cell_type": "code",
   "execution_count": 1,
   "id": "c1a88b9d-6968-48bd-95e5-2a12ec1de72d",
   "metadata": {},
   "outputs": [],
   "source": [
    "# sample_showup(train_dataset, 1)"
   ]
  },
  {
   "cell_type": "code",
   "execution_count": 131,
   "id": "341e287e-d227-4938-b987-7d1ebaeb9148",
   "metadata": {},
   "outputs": [],
   "source": [
    "sig = torch.nn.Sigmoid()\n",
    "i = 0\n",
    "Jsum = 0 \n",
    "b = 0\n",
    "w = torch.zeros(1, 784, dtype=torch.float32)\n",
    "m = len(train_dataset)"
   ]
  },
  {
   "cell_type": "code",
   "execution_count": 130,
   "id": "09776185-55c5-4e5d-ac1d-5b7a2a4d87ce",
   "metadata": {},
   "outputs": [],
   "source": [
    "x = train_dataset[i][0].flatten()\n",
    "y = train_dataset[i][1]"
   ]
  },
  {
   "cell_type": "code",
   "execution_count": 132,
   "id": "a8323497-89e6-45eb-bc59-63644b0775f5",
   "metadata": {},
   "outputs": [],
   "source": [
    "yh = sig( (x * w).sum() + b)"
   ]
  },
  {
   "cell_type": "code",
   "execution_count": 133,
   "id": "bac9a64c-a25b-43c5-b4da-0ddf234729c7",
   "metadata": {},
   "outputs": [],
   "source": [
    "L = -( y * torch.log(yh) + (1-y) * torch.log(1-yh) )"
   ]
  },
  {
   "cell_type": "code",
   "execution_count": 134,
   "id": "8bb0f158-0878-4171-acfb-b0e9ee104af2",
   "metadata": {},
   "outputs": [],
   "source": [
    "Jsum += L"
   ]
  },
  {
   "cell_type": "code",
   "execution_count": null,
   "id": "5e839d7e-7c43-4fc2-bda1-62941e5c29f7",
   "metadata": {},
   "outputs": [],
   "source": []
  },
  {
   "cell_type": "code",
   "execution_count": 122,
   "id": "c50a00af-2530-4bb4-8d81-11a051c48dc1",
   "metadata": {},
   "outputs": [
    {
     "data": {
      "text/plain": [
       "tensor(0.6931)"
      ]
     },
     "execution_count": 122,
     "metadata": {},
     "output_type": "execute_result"
    }
   ],
   "source": []
  },
  {
   "cell_type": "code",
   "execution_count": 78,
   "id": "5e01c5f8-7944-47a9-adb4-d738a96decf3",
   "metadata": {},
   "outputs": [],
   "source": []
  },
  {
   "cell_type": "code",
   "execution_count": 101,
   "id": "f177f552-e0bd-4718-85e4-baa021e1f537",
   "metadata": {},
   "outputs": [
    {
     "name": "stdout",
     "output_type": "stream",
     "text": [
      "tensor([168., 360.])\n"
     ]
    }
   ],
   "source": [
    "x = torch.tensor([2.0, 3.0], requires_grad=True)\n",
    "y = x ** 2 + 3 * x + 2\n",
    "y = y ** 2\n",
    "loss = y.sum()\n",
    "loss.backward()\n",
    "print(x.grad)  # Output will be the gradients of the loss with respect to x\n"
   ]
  },
  {
   "cell_type": "code",
   "execution_count": null,
   "id": "aa463ce4-56e0-44ef-be35-4b9aa0077d42",
   "metadata": {},
   "outputs": [],
   "source": []
  },
  {
   "cell_type": "code",
   "execution_count": null,
   "id": "63357b29-792f-40ab-9f78-a3829bab9a85",
   "metadata": {},
   "outputs": [],
   "source": []
  },
  {
   "cell_type": "code",
   "execution_count": null,
   "id": "06ded8d8-d925-4f69-8768-7a676de73cf1",
   "metadata": {},
   "outputs": [],
   "source": []
  }
 ],
 "metadata": {
  "kernelspec": {
   "display_name": "Python 3 (ipykernel)",
   "language": "python",
   "name": "python3"
  },
  "language_info": {
   "codemirror_mode": {
    "name": "ipython",
    "version": 3
   },
   "file_extension": ".py",
   "mimetype": "text/x-python",
   "name": "python",
   "nbconvert_exporter": "python",
   "pygments_lexer": "ipython3",
   "version": "3.10.12"
  }
 },
 "nbformat": 4,
 "nbformat_minor": 5
}
